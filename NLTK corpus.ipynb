{
 "cells": [
  {
   "cell_type": "markdown",
   "metadata": {},
   "source": [
    "# Python NLTK Corpus\n",
    "##### (https://www.w3resource.com/)"
   ]
  },
  {
   "cell_type": "markdown",
   "metadata": {},
   "source": [
    "##### Write a Python NLTK program to list down all the corpus names"
   ]
  },
  {
   "cell_type": "code",
   "execution_count": 1,
   "metadata": {},
   "outputs": [
    {
     "name": "stdout",
     "output_type": "stream",
     "text": [
      "\n",
      "Available corpus names:\n",
      "['_LazyModule__lazymodule_globals', '_LazyModule__lazymodule_import', '_LazyModule__lazymodule_init', '_LazyModule__lazymodule_loaded', '_LazyModule__lazymodule_locals', '_LazyModule__lazymodule_name', '__class__', '__delattr__', '__dict__', '__dir__', '__doc__', '__eq__', '__format__', '__ge__', '__getattr__', '__getattribute__', '__gt__', '__hash__', '__init__', '__init_subclass__', '__le__', '__lt__', '__module__', '__name__', '__ne__', '__new__', '__reduce__', '__reduce_ex__', '__repr__', '__setattr__', '__sizeof__', '__str__', '__subclasshook__', '__weakref__']\n"
     ]
    }
   ],
   "source": [
    "import nltk.corpus\n",
    "dir(nltk.corpus)\n",
    "print(\"\\nAvailable corpus names:\")\n",
    "print(dir(nltk.corpus))"
   ]
  },
  {
   "cell_type": "markdown",
   "metadata": {},
   "source": [
    "#### Write a Python NLTK program to get a list of common stop words in various languages in Python"
   ]
  },
  {
   "cell_type": "code",
   "execution_count": 3,
   "metadata": {},
   "outputs": [
    {
     "data": {
      "text/plain": [
       "['_LazyModule__lazymodule_globals',\n",
       " '_LazyModule__lazymodule_import',\n",
       " '_LazyModule__lazymodule_init',\n",
       " '_LazyModule__lazymodule_loaded',\n",
       " '_LazyModule__lazymodule_locals',\n",
       " '_LazyModule__lazymodule_name',\n",
       " '__class__',\n",
       " '__delattr__',\n",
       " '__dict__',\n",
       " '__dir__',\n",
       " '__doc__',\n",
       " '__eq__',\n",
       " '__format__',\n",
       " '__ge__',\n",
       " '__getattr__',\n",
       " '__getattribute__',\n",
       " '__gt__',\n",
       " '__hash__',\n",
       " '__init__',\n",
       " '__init_subclass__',\n",
       " '__le__',\n",
       " '__lt__',\n",
       " '__module__',\n",
       " '__name__',\n",
       " '__ne__',\n",
       " '__new__',\n",
       " '__reduce__',\n",
       " '__reduce_ex__',\n",
       " '__repr__',\n",
       " '__setattr__',\n",
       " '__sizeof__',\n",
       " '__str__',\n",
       " '__subclasshook__',\n",
       " '__weakref__']"
      ]
     },
     "execution_count": 3,
     "metadata": {},
     "output_type": "execute_result"
    }
   ],
   "source": [
    "import nltk.corpus\n",
    "dir(nltk.corpus)"
   ]
  },
  {
   "cell_type": "code",
   "execution_count": 16,
   "metadata": {},
   "outputs": [
    {
     "name": "stdout",
     "output_type": "stream",
     "text": [
      "['arabic', 'azerbaijani', 'danish', 'dutch', 'english', 'finnish', 'french', 'german', 'greek', 'hungarian', 'indonesian', 'italian', 'kazakh', 'nepali', 'norwegian', 'portuguese', 'romanian', 'russian', 'slovene', 'spanish', 'swedish', 'tajik', 'turkish']\n"
     ]
    },
    {
     "name": "stderr",
     "output_type": "stream",
     "text": [
      "[nltk_data] Downloading package stopwords to\n",
      "[nltk_data]     /Users/sarath/nltk_data...\n",
      "[nltk_data]   Package stopwords is already up-to-date!\n"
     ]
    }
   ],
   "source": [
    "from nltk.corpus import stopwords\n",
    "import nltk\n",
    "nltk.download('stopwords')\n",
    "print (stopwords.fileids())\n"
   ]
  },
  {
   "cell_type": "markdown",
   "metadata": {},
   "source": [
    "#### Write a Python NLTK program to check the list of stopwords in various languages From Wikipedia:"
   ]
  },
  {
   "cell_type": "markdown",
   "metadata": {},
   "source": [
    "* In computing, stop words are words which are filtered out before or after processing of natural language data (text). Though \"stop words\" usually refers to the most common words in a language, there is no single universal list of stop words used by all natural language processing tools, and indeed not all tools even use such a list. Some tools specifically avoid removing these stop words to support phrase search.\n",
    "Any group of words can be chosen as the stop words for a given purpose. For some search engines, these are some of the most common, short function words, such as the, is, at, which, and on. In this case, stop words can cause problems when searching for phrases that include them, particularly in names such as \"The Who\", \"The The\", or \"Take That\". Other search engines remove some of the most common words-including lexical words, such as \"want\"-from a query in order to improve performance."
   ]
  },
  {
   "cell_type": "code",
   "execution_count": 17,
   "metadata": {},
   "outputs": [
    {
     "name": "stdout",
     "output_type": "stream",
     "text": [
      "List of stopwords in English:\n",
      "{'them', 'here', 'against', 're', 'out', 'about', 'during', 'yourselves', 'should', 'which', 'what', 'can', 'by', 'there', 'weren', 'ours', \"haven't\", 'have', 'll', 'too', 'hers', 'down', 'after', 'am', 'at', 'while', 'won', 'an', 'being', 'before', 'those', \"you're\", 'me', 'if', 'm', 'below', 'a', 'you', 'has', 'very', 'is', 'only', 'as', 'through', 'they', 'other', 'some', 'his', 'o', 'mustn', 'for', 'shan', 'were', 't', 'we', 'ourselves', \"hasn't\", 'hadn', \"didn't\", \"aren't\", \"don't\", 'he', 'over', 'than', 'on', 'ma', 'mightn', \"you'll\", 'yourself', 'more', 'of', 'with', 'be', 'each', 's', 'until', 've', \"that'll\", 'and', 'yours', 'been', 'i', 'having', 'because', \"it's\", 'own', 'no', 'was', \"weren't\", 'their', 'my', 'its', 'did', 'just', 'doesn', 'hasn', 'or', \"you've\", 'up', \"should've\", 'it', \"shouldn't\", 'ain', 'these', \"wasn't\", \"won't\", 'above', 'are', 'both', 'this', 'couldn', 'that', 'haven', 'our', 'wouldn', \"wouldn't\", 'how', 'again', 'herself', 'doing', 'between', 'off', 'same', 'don', 'theirs', 'to', \"she's\", 'she', 'who', 'so', 'aren', \"couldn't\", \"you'd\", 'your', 'had', 'do', 'into', 'why', 'himself', 'the', 'now', 'whom', \"shan't\", \"mustn't\", 'all', 'wasn', \"doesn't\", 'any', 'further', 'once', \"needn't\", \"hadn't\", 'needn', 'few', 'then', \"isn't\", 'but', 'where', 'from', 'most', 'isn', 'shouldn', 'him', 'in', 'when', 'myself', 'her', 'themselves', 'nor', 'does', 'not', 'itself', 'such', 'd', 'under', 'y', 'didn', 'will', \"mightn't\"}\n",
      "\n",
      "List of stopwords in Arabic:\n",
      "{'اللائي', 'ذواتي', 'عسى', 'على', 'لو', 'بيد', 'دون', 'ذات', 'كلاهما', 'مما', 'أوه', 'بنا', 'ذانك', 'هم', 'إليكن', 'بس', 'به', 'بعض', 'بكما', 'تلكما', 'حين', 'عليك', 'كأين', 'لدى', 'هذان', 'هن', 'ذلكم', 'لها', 'إذما', 'إذ', 'لم', 'منه', 'إنا', 'فيها', 'هؤلاء', 'ألا', 'لئن', 'ما', 'ها', 'إنما', 'والذين', 'لكما', 'ريث', 'لعل', 'كيفما', 'فيم', 'أكثر', 'كذا', 'آه', 'هنالك', 'مه', 'أنا', 'بلى', 'ذا', 'ذو', 'لوما', 'إنه', 'تي', 'كيف', 'اللتين', 'غير', 'لستم', 'إليكما', 'إي', 'سوف', 'فمن', 'لي', 'لكم', 'هيا', 'قد', 'ليت', 'ذلك', 'ليس', 'الذي', 'أما', 'لولا', 'تين', 'من', 'لنا', 'هذي', 'ليسا', 'هاك', 'هاتان', 'فإذا', 'تلكم', 'إيه', 'بما', 'إلى', 'أنتما', 'بخ', 'ليست', 'هذين', 'حيثما', 'أولاء', 'هنا', 'هذه', 'ذواتا', 'اللتان', 'ذاك', 'عل', 'أولئك', 'ثم', 'تينك', 'عليه', 'كليكما', 'ممن', 'نعم', 'لهم', 'كيت', 'لسنا', 'متى', 'هيت', 'أنت', 'شتان', 'فلا', 'كما', 'لا', 'بهما', 'اللاتي', 'لستما', 'لستن', 'وإذ', 'كل', 'التي', 'ليسوا', 'لك', 'الذين', 'هي', 'إليك', 'وإن', 'ولو', 'بعد', 'تلك', 'آها', 'سوى', 'مهما', 'لكي', 'ذينك', 'لهن', 'اللتيا', 'أيها', 'ذلكما', 'إما', 'أين', 'هكذا', 'أف', 'أن', 'بها', 'ثمة', 'حيث', 'ذه', 'وهو', 'ذوا', 'ذي', 'مع', 'ذان', 'هاتي', 'عند', 'بكن', 'اللذين', 'لكيلا', 'ذلكن', 'في', 'كليهما', 'كلتا', 'كأنما', 'هذا', 'إذا', 'بك', 'كأي', 'ولا', 'فيه', 'بهم', 'اللواتي', 'كذلك', 'كي', 'إليكم', 'لكنما', 'ليستا', 'منها', 'نحو', 'إن', 'هاته', 'عن', 'بمن', 'لست', 'لكن', 'بل', 'خلا', 'اللذان', 'بين', 'إلا', 'أينما', 'بماذا', 'أم', 'والذي', 'لن', 'نحن', 'فيما', 'وإذا', 'عما', 'هلا', 'أو', 'يا', 'ته', 'كم', 'كأن', 'أي', 'أنتن', 'ذين', 'حتى', 'لهما', 'كلما', 'مذ', 'لما', 'منذ', 'هل', 'هاتين', 'وما', 'عدا', 'ماذا', 'آي', 'هما', 'بي', 'حبذا', 'له', 'كلا', 'لسن', 'ولكن', 'ومن', 'أقل', 'لاسيما', 'أنتم', 'هو', 'إذن', 'بكم', 'هناك', 'أنى', 'فإن', 'حاشا', 'هاهنا', 'بهن', 'هيهات'}\n",
      "\n",
      "List of stopwords in Azerbaijani:\n",
      "{'buna', 'hər', 'olmaz', 'bəlkə', 'harada', 'biraz', 'oldu', 'var', 'cü', 'siz', 'xanım', 'yalnız', 'ha', 'ü', 'nə', 'altmış', 'yüz', 'ad', 'onun', 'etmə', 'həmin', 'kim', 'yenə', 'üçün', 'biri', 'mən', 'a', 'əgər', 'sənə', 'öz', 'istifadə', 'mənə', 'həm', 'o', 'etmək', 'obirisi', 'bundan', 'saat', 'yetmiş', 'deyil', 'özü', 'heç', 'bütün', 'bəli', 'ı', 'on', 'yoxsa', 'of', 'də', 'elə', 'et', 'təəssüf', 'cu', 'çünki', 'da', 'dəqiqə', 'onu', 'bunun', 'xan', 'haqqında', 'düz', 'kimə', 'səhv', 'onlardan', 'amma', 'onlar', 'cı', 'doqsan', 'sizlər', 'idi', 'qırx', 'əlli', 'sonra', 'saniyə', 'yəni', 'faiz', 'belə', 'bizlər', 'biz', 'birşey', 'lap', 'ki', 'doqquz', 'artıq', 'üç', 'ildə', 'onsuzda', 'iyirmi', 'bax', 'dir', 'olduğu', 'bir', 'çox', 'olan', 'otuz', 'qarşı', 'qədər', 'sadəcə', 'ə', 'ya', 'altı', 'kimi', 'ay', 'həmişə', 'yaxşı', 'il', 'görə', 'az', 'və', 'edən', 'niyə', 'iki', 'dən', 'olmuşdur', 'yoxdur', 'sən', 'daha', 'sizin', 'yeddi', 'gilə', 'mirşey', 'edir', 'oradan', 'bilər', 'bizim', 'indi', 'yox', 'bəzi', 'hə', 'ilk', 'ci', 'ən', 'olaraq', 'dək', 'isə', 'səkkiz', 'lakin', 'bunu', 'olur', 'olar', 'məhz', 'dedi', 'bəzən', 'ondan', 'sənin', 'bunların', 'dörd', 'olsun', 'nəhayət', 'səksən', 'beş', 'bu', 'onların ', 'əlbəttə', 'etdi', 'zaman', 'in', 'ilə', 'arasında', 'buradan', 'xeyr', 'olmadı', 'ona', 'bəy', 'əslində'}\n",
      "\n",
      "List of stopwords in Danish:\n",
      "{'dig', 'ikke', 'disse', 'dem', 'var', 'ad', 'man', 'jer', 'have', 'mig', 'at', 'sine', 'er', 'en', 'thi', 'kunne', 'jeg', 'hos', 'nu', 'nogle', 'bliver', 'for', 'blev', 'af', 'om', 'har', 'hvor', 'selv', 'du', 'hans', 'over', 'været', 'mine', 'ham', 'ned', 'hendes', 'et', 'i', 'det', 'da', 'sin', 'havde', 'den', 'de', 'hvad', 'sådan', 'der', 'vor', 'sig', 'fra', 'os', 'alt', 'hvis', 'blive', 'dette', 'som', 'mange', 'anden', 'efter', 'og', 'denne', 'når', 'til', 'hun', 'min', 'hende', 'jo', 'mod', 'alle', 'han', 'dog', 'sit', 'være', 'ind', 'skulle', 'ville', 'noget', 'deres', 'med', 'skal', 'mit', 'på', 'meget', 'vil', 'ud', 'end', 'her', 'vi', 'men', 'også', 'eller', 'op', 'under', 'din'}\n",
      "\n",
      "List of stopwords in Dutch:\n",
      "{'zelf', 'het', 'ja', 'van', 'omdat', 'ze', 'maar', 'niets', 'zij', 'me', 'er', 'zo', 'iemand', 'en', 'voor', 'doen', 'is', 'eens', 'ik', 'geweest', 'nu', 'al', 'door', 'nog', 'heb', 'om', 'over', 'zich', 'wil', 'of', 'deze', 'want', 'aan', 'hij', 'was', 'andere', 'hem', 'zonder', 'haar', 'dus', 'de', 'ons', 'hebben', 'die', 'der', 'wie', 'mij', 'met', 'bij', 'ben', 'ge', 'kunnen', 'reeds', 'geen', 'daar', 'worden', 'altijd', 'je', 'dan', 'onder', 'niet', 'iets', 'alles', 'als', 'uit', 'tegen', 'na', 'wat', 'naar', 'wezen', 'hun', 'had', 'kon', 'meer', 'u', 'hier', 'te', 'veel', 'doch', 'hoe', 'waren', 'toch', 'zal', 'zijn', 'mijn', 'wordt', 'werd', 'dit', 'een', 'heeft', 'in', 'tot', 'ook', 'toen', 'dat', 'kan', 'men', 'zou', 'moet', 'op', 'uw'}\n",
      "\n",
      "List of stopwords in Finnish:\n",
      "{'sinut', 'nämä', 'ollut', 'tälle', 'sillä', 'tämän', 'keiltä', 'siitä', 'hänet', 'olimme', 'tuo', 'oli', 'keiden', 'näitä', 'minulta', 'heillä', 'joilta', 'koska', 'ja', 'ne', 'joka', 'hänelle', 'meihin', 'olisin', 'ei', 'noille', 'joihin', 'niin', 'olitte', 'eivät', 'minusta', 'meille', 'teillä', 'teiltä', 'kenelle', 'joista', 'kenenä', 'kenessä', 'vaikka', 'johon', 'poikki', 'hänessä', 'noiden', 'niissä', 'olen', 'sinuun', 'me', 'niinä', 'ette', 'en', 'kanssa', 'sinä', 'tuohon', 'mille', 'niitä', 'hänellä', 'heissä', 'noina', 'keillä', 'mutta', 'niiksi', 'minä', 'kenen', 'vaan', 'tuoksi', 'näissä', 'sinussa', 'ketkä', 'näille', 'nuo', 'jolta', 'tänä', 'niiden', 'teidät', 'tallä', 'jonka', 'sinua', 'heille', 'he', 'kuin', 'häneltä', 'noiksi', 'keitä', 'sekä', 'joina', 'on', 'olemme', 'noista', 'keneksi', 'tuona', 'mihin', 'joille', 'heiltä', 'heitä', 'kenestä', 'olit', 'minua', 'olivat', 'jossa', 'tuolla', 'et', 'tuossa', 'kenellä', 'noihin', 'olisimme', 'vai', 'meitä', 'minussa', 'niihin', 'niiltä', 'kun', 'keiksi', 'sitä', 'että', 'noin', 'näistä', 'ketä', 'näillä', 'sille', 'heistä', 'teidän', 'tai', 'teitä', 'millä', 'missä', 'tämä', 'jolla', 'joita', 'joiden', 'mitkä', 'jona', 'olisivat', 'hänestä', 'olla', 'heidät', 'se', 'siihen', 'olette', 'heihin', 'sinun', 'sen', 'meiltä', 'näiden', 'miksi', 'mitä', 'noita', 'ovat', 'emme', 'mukaan', 'jos', 'tuotä', 'meistä', 'miltä', 'meillä', 'tuon', 'noilla', 'joissa', 'minulla', 'sinulle', 'teistä', 'tässä', 'minun', 'niistä', 'kuka', 'noilta', 'jotka', 'ole', 'häntä', 'tähän', 'näiltä', 'keneen', 'keneltä', 'noissa', 'joksi', 'teihin', 'keille', 'heidän', 'olisit', 'olin', 'sinulla', 'nyt', 'häneen', 'mikä', 'te', 'tuolle', 'olisi', 'meidän', 'tästä', 'näinä', 'siksi', 'joilla', 'kenet', 'sinusta', 'olet', 'sinulta', 'meissä', 'näiksi', 'jolle', 'minuun', 'minulle', 'hänen', 'joiksi', 'hän', 'niillä', 'keinä', 'siltä', 'minut', 'minkä', 'tuolta', 'jota', 'teille', 'tätä', 'olisitte', 'teissä', 'täksi', 'tuosta', 'tältä', 'keistä', 'mistä', 'itse', 'keissä', 'siinä', 'meidät', 'keihin', 'josta', 'yli', 'näihin', 'niille', 'olleet'}\n",
      "\n",
      "List of stopwords in French:\n",
      "{'étants', 'fut', 'eussions', 'fûmes', 'eu', 'avec', 'ai', 'auraient', 'ayez', 'ayante', 'furent', 'ne', 'seriez', 'ce', 'la', 'êtes', 'seras', 'étée', 'soyez', 'serions', 'un', 'soient', 'eusses', 'tu', 'eûmes', 'fusse', 'fusses', 'aurions', 'me', 'm', 'ou', 'en', 'était', 'j', 'ayantes', 'mais', 'étés', 'des', 'avons', 'eût', 'as', 'es', 'eues', 'étais', 't', 'sont', 'du', 'ton', 'étaient', 'avez', 'sommes', 'on', 'avaient', 'leur', 'vous', 'elle', 'ma', 's', 'c', 'et', 'son', 'eusse', 'qu', 'ont', 'auras', 'étant', 'l', 'avais', 'eurent', 'sois', 'étions', 'suis', 'moi', 'seront', 'ayant', 'auriez', 'avait', 'à', 'nos', 'n', 'de', 'serai', 'eûtes', 'auront', 'mes', 'étantes', 'ils', 'votre', 'serons', 'serez', 'sur', 'seraient', 'pour', 'fussent', 'même', 'le', 'se', 'serait', 'eussiez', 'aura', 'étante', 'pas', 'notre', 'je', 'aies', 'il', 'sera', 'eut', 'au', 'que', 'aurais', 'avions', 'sa', 'tes', 'aurons', 'aurait', 'ta', 'par', 'aviez', 'qui', 'aurez', 'te', 'eux', 'aux', 'fussiez', 'ait', 'nous', 'est', 'lui', 'aurai', 'les', 'aient', 'eussent', 'été', 'dans', 'eus', 'vos', 'étées', 'fût', 'mon', 'ayons', 'ces', 'fus', 'aie', 'soit', 'ayants', 'une', 'eue', 'étiez', 'fûtes', 'ses', 'serais', 'fussions', 'toi', 'd', 'y', 'soyons'}\n",
      "\n",
      "List of stopwords in German:\n",
      "{'manchem', 'damit', 'denn', 'würde', 'zum', 'werde', 'aber', 'unter', 'allem', 'unseren', 'meinem', 'über', 'dem', 'selbst', 'weil', 'dein', 'deine', 'ihrer', 'eurem', 'weg', 'man', 'mancher', 'während', 'jetzt', 'am', 'noch', 'einiges', 'unser', 'dort', 'an', 'andern', 'hab', 'keinen', 'eure', 'er', 'diesen', 'unserem', 'dessen', 'wird', 'gegen', 'des', 'sehr', 'um', 'solche', 'hatte', 'es', 'einem', 'manches', 'keines', 'keinem', 'jenem', 'keiner', 'jedem', 'jeden', 'denselben', 'wollen', 'anderm', 'ihren', 'sonst', 'du', 'nur', 'unseres', 'ihr', 'viel', 'dieselben', 'ihn', 'derselben', 'meine', 'deinem', 'das', 'bei', 'durch', 'nicht', 'sollte', 'warst', 'welches', 'einige', 'dieselbe', 'dazu', 'diese', 'eures', 'weiter', 'nach', 'seine', 'wo', 'da', 'ihres', 'mein', 'einen', 'von', 'ist', 'was', 'den', 'andere', 'meines', 'solcher', 'haben', 'einiger', 'solches', 'zwar', 'anderer', 'derselbe', 'also', 'wieder', 'daß', 'muss', 'hin', 'deiner', 'seinen', 'manche', 'euch', 'können', 'musste', 'ob', 'sondern', 'die', 'jenes', 'der', 'keine', 'seinem', 'auch', 'dass', 'derer', 'ein', 'sich', 'sind', 'wie', 'vor', 'jeder', 'sie', 'auf', 'dir', 'werden', 'jener', 'oder', 'für', 'bist', 'deinen', 'dies', 'ihrem', 'hatten', 'seines', 'wir', 'dasselbe', 'eines', 'zwischen', 'kein', 'wollte', 'anderem', 'einer', 'aller', 'dieses', 'ins', 'alles', 'ihnen', 'als', 'ihm', 'solchen', 'jede', 'welchem', 'anderr', 'so', 'vom', 'eurer', 'ihre', 'jedes', 'allen', 'einigen', 'unsere', 'wirst', 'könnte', 'würden', 'meinen', 'dieser', 'hier', 'indem', 'anders', 'manchen', 'diesem', 'aus', 'doch', 'dich', 'hinter', 'welchen', 'wenn', 'einmal', 'alle', 'bin', 'mich', 'waren', 'solchem', 'zu', 'machen', 'desselben', 'anderes', 'etwas', 'kann', 'euren', 'bis', 'mir', 'demselben', 'mit', 'ander', 'einigem', 'soll', 'einig', 'ich', 'jene', 'meiner', 'anderen', 'welche', 'in', 'gewesen', 'ohne', 'welcher', 'und', 'sein', 'eine', 'euer', 'im', 'seiner', 'zur', 'jenen', 'hat', 'deines', 'uns', 'nichts', 'dann', 'war', 'will', 'habe', 'nun'}\n",
      "\n",
      "List of stopwords in Greek:\n",
      "{'εκεινεσ', 'οἱ', 'ισωσ', 'κατ', 'τοι', 'εισαι', 'των', 'αἱ', 'διά', 'τοί', 'να', 'ὑπ', 'ἐμὸς', 'περί', 'οὐδεὶς', 'γοῦν', 'ειστε', 'ὅθεν', 'πωσ', 'δαὶς', 'παρ', 'ἀπό', 'παρά', 'ἐφ', 'τινα', 'με', 'το', 'οὕτωσ', 'ειμαστε', 'δ’', 'επ', 'οι', 'αυτων', 'παρα', 'πρὸς', 'ἐμόσ', 'εκεινοι', 'ὃ', 'καίτοι', 'γα', 'τε', 'οσο', 'μέν', 'οὐκ', 'τοιοῦτοσ', 'τὴν', 'τῶν', 'τί', 'κἂν', 'οὐδὲ', 'κ', 'μἐν', 'ὑπὸ', 'ὑπό', 'αυτο', 'ὅστισ', 'τὰ', 'θα', 'σύν', 'τότε', 'ὅδε', 'ειμαι', 'κἀν', 'ποῦ', 'αλλα', 'τὸν', 'εἰς', 'οπωσ', 'μὴν', 'οὐδὲν', 'ἄλλοσ', 'δαίσ', 'μην', 'ο', 'οὐ', 'οὕτω', 'παρὰ', \"δι'\", 'την', 'οὐδείσ', 'τῷ', 'αυτουσ', 'ἥ', 'ἐάν', 'εκεινη', 'οὐχὶ', 'ἵνα', 'οὔτε', 'τῆσ', 'σὸς', 'ποιουσ', 'στον', 'σύ', 'οἳ', 'δαὶ', 'αὐτόσ', 'περὶ', 'στη', 'ποτε', 'καθ', 'πρόσ', 'τον', 'ἐπὶ', 'οὐδ', 'ὡσ', 'τούσ', 'αὖ', 'μή', 'σόσ', 'τήν', 'ᾧ', 'τι', 'οὐχ', 'αἵ', 'τὰς', 'κατα', 'οὗ', 'τοτε', 'ἃ', 'ἅμα', 'ἑαυτοῦ', 'γὰρ', 'εἰσ', 'γα^', 'τὸ', 'τίσ', 'τοῦ', 'ἄν', 'ἣ', 'εἰ', 'οὕτως', 'στο', 'τισ', 'τῇ', 'ὃν', 'δή', 'ὃς', 'καὶ', 'οτι', 'αἳ', 'τοῖς', 'ἄλλος', 'ὅ', 'ὅτι', 'ἐγώ', 'εἰμὶ', 'ἡ', 'τοὺς', 'ἐγὼ', 'ωσ', 'αυτη', 'ἐν', 'πρὸ', 'ὥς', 'δαί', 'μετα', 'του', 'εκεινο', 'δὲ', 'εκεινουσ', 'γε', 'οἷς', 'ταῖς', 'τις', 'στην', 'τησ', 'τῆς', 'μη', 'ἂν', 'ἀφ', 'ποια', \"ἀλλ'\", 'ἄρα', 'ἐπί', 'τό', 'μεθ', 'ὅς', 'ἐξ', 'εἴ', 'και', 'ὑμόσ', 'δε', 'ἀπ', 'ειναι', 'μὲν', 'ἀλλ’', 'ὅτε', 'εαν', 'ποιο', 'ἐὰν', 'για', 'μήτε', 'ὡς', 'εἰμί', 'μετὰ', 'μὴ', 'οὗτος', 'ὅσ', 'αν', 'ποιοσ', 'τα', 'ὅστις', 'ὅπερ', 'ἐκ', 'αυτα', 'επι', 'ἤ', 'μετά', 'σὺν', 'ἧς', 'απο', 'η', 'ποιεσ', 'που', 'τά', 'ποιοι', 'γάρ', 'εἴτε', 'δεν', 'αυτοι', 'εκεινα', 'αυτεσ', 'ενω', 'οὖν', 'ποιων', 'σε', 'ἀλλά', 'ἐστι', 'κι', 'καί', 'εκεινων', 'προ', 'εἴμι', 'ομωσ', 'εκεινοσ', 'τοιοῦτος', 'τόν', 'δέ', 'αντι', 'αὐτὸς', 'κατά', 'οὗτοσ', \"δ'\", 'προσ', 'πως', 'ὁ', 'κατὰ', 'δὴ', 'αυτοσ', 'ὑπέρ', 'ἐπεὶ', 'σὺ', 'ἔτι', 'οὐδέ', 'μετ', 'ἢ', 'ὑπὲρ', 'οὓς', 'ἀπὸ', 'ὥστε', 'ἀλλὰ', 'ὦ', 'διὰ', 'μα', 'τίς'}\n",
      "\n",
      "List of stopwords in Hungarian:\n",
      "{'azok', 'mivel', 'miért', 'vissza', 'amelyet', 'ennek', 'pedig', 'azzal', 'vele', 'amíg', 'által', 'szinte', 'akik', 'hanem', 'szerint', 'után', 'csak', 'voltak', 'ne', 'e', 'van', 'ilyen', 'ahhoz', 'mintha', 'belül', 'cikkek', 'jobban', 'lenni', 'itt', 'akkor', 'éppen', 'jó', 'ahogy', 'ismét', 'melyek', 'a', 'el', 'majd', 'másik', 'saját', 'minden', 'persze', 'mindig', 'azután', 'sokkal', 'vagyis', 'volt', 'annak', 'hiszen', 'míg', 'voltam', 'ugyanis', 'fel', 'emilyen', 'össze', 'ehhez', 'meg', 'benne', 'mint', 'újabb', 'mindent', 'ahol', 'amelynek', 'között', 'magát', 'olyan', 'egész', 'más', 's', 'be', 'milyen', 'egy', 'amolyan', 'jól', 'elõtt', 'õ', 'ezek', 'hogy', 'nekem', 'közül', 'való', 'amelyekben', 'keressünk', 'lett', 'nagy', 'ezt', 'kell', 'cikk', 'keresztül', 'aki', 'egyes', 'egyéb', 'de', 'ill', 'még', 'mindenki', 'bár', 'ill.', 'neki', 'egyetlen', 'õk', 'arra', 'így', 'ki', 'arról', 'elõször', 'több', 'én', 'erre', 'tovább', 'legalább', 'legyen', 'nélkül', 'lenne', 'kellett', 'új', 'néhány', 'újra', 'már', 'mi', 'számára', 'vagyok', 'hogyan', 'tehát', 'nem', 'az', 'amelyeket', 'általában', 'talán', 'voltunk', 'elég', 'lehet', 'igen', 'egyik', 'ott', 'elsõ', 'amit', 'továbbá', 'kívül', 'valami', 'utána', 'sok', 'elõ', 'ebben', 'sem', 'valamint', 'õket', 'semmi', 'lehetett', 'vagy', 'alatt', 'amikor', 'nincs', 'ezért', 'egyre', 'mert', 'valaki', 'úgy', 'és', 'aztán', 'utolsó', 'viszont', 'szemben', 'abban', 'ami', 'eddig', 'azt', 'illetve', 'át', 'teljes', 'azonban', 'maga', 'cikkeket', 'vannak', 'azon', 'lesz', 'sokat', 'ez', 'volna', 'mellett', 'mit', 'nagyobb', 'néha', 'ellen', 'mikor', 'most', 'mely', 'felé', 'amelyek', 'ezen', 'azért', 'ilyenkor', 'ezzel', 'ison', 'nagyon', 'ekkor', 'rá', 'amely'}\n",
      "\n",
      "List of stopwords in Indonesian:\n",
      "{'merupakan', 'tanpa', 'berkehendak', 'perlu', 'ia', 'selaku', 'kelima', 'baru', 'masa', 'terlihat', 'begitulah', 'tidak', 'dirinya', 'sekecil', 'kalian', 'sudahkah', 'semampu', 'teringat', 'asalkan', 'sekadar', 'sekitar', 'pentingnya', 'menandaskan', 'pukul', 'asal', 'dituturkan', 'dimaksudkan', 'menggunakan', 'sedikitnya', 'depan', 'jikalau', 'tanyakan', 'untuk', 'mengungkapkan', 'jawabnya', 'bersiap', 'seorang', 'jawab', 'kapan', 'hal', 'atau', 'sesudah', 'benarkah', 'memperbuat', 'bila', 'pihaknya', 'belakang', 'mengapa', 'sepertinya', 'kala', 'nyatanya', 'sebelumnya', 'akulah', 'bertanya-tanya', 'katakan', 'cara', 'memerlukan', 'ditunjukkan', 'nyaris', 'nanti', 'dalam', 'bagai', 'seperti', 'dibuat', 'sekalian', 'setelah', 'jelaslah', 'ditandaskan', 'tadi', 'bung', 'walaupun', 'menuju', 'belum', 'menanyakan', 'kesampaian', 'diberikan', 'begini', 'ibarat', 'pak', 'diucapkan', 'terhadap', 'berapapun', 'akankah', 'bermula', 'bersama-sama', 'ditunjuk', 'dipastikan', 'setidak-tidaknya', 'sebaliknya', 'belakangan', 'ingat', 'akan', 'memastikan', 'adalah', 'merekalah', 'sebanyak', 'apa', 'ibaratkan', 'karena', 'tandas', 'pastilah', 'berakhirlah', 'melihatnya', 'masing-masing', 'mempergunakan', 'terjadi', 'menuturkan', 'menaiki', 'misalkan', 'macam', 'sajalah', 'mula', 'minta', 'sekitarnya', 'setinggi', 'turut', 'keluar', 'kamulah', 'dimaksud', 'dimulai', 'sesaat', 'seringnya', 'sebagaimana', 'sebaik-baiknya', 'sebuah', 'khususnya', 'yakin', 'dilihat', 'keinginan', 'bermaksud', 'pertama-tama', 'bagaimanakah', 'menanti-nanti', 'ditujukan', 'tegas', 'cukupkah', 'lagian', 'oleh', 'terbanyak', 'semasih', 'terkira', 'menantikan', 'tak', 'ibu', 'memihak', 'dong', 'mendatang', 'sesegera', 'karenanya', 'segalanya', 'bisakah', 'agar', 'memberikan', 'mempunyai', 'menunjuki', 'sebab', 'diingat', 'dulu', 'masing', 'jawaban', 'saling', 'sebaiknya', 'menunjuknya', 'seberapa', 'kini', 'masalah', 'menanti', 'kurang', 'sedang', 'dimulainya', 'katakanlah', 'tepat', 'ataupun', 'berawal', 'inginkah', 'tiap', 'bertutur', 'rata', 'berupa', 'mengenai', 'sebut', 'penting', 'dapat', 'kata', 'memperlihatkan', 'akhir', 'selama', 'siapakah', 'keadaan', 'per', 'tentu', 'memungkinkan', 'paling', 'betul', 'menambahkan', 'diperlihatkan', 'meyakini', 'menjadi', 'setiap', 'diibaratkan', 'sekali', 'umumnya', 'hari', 'pula', 'sebutnya', 'amat', 'termasuk', 'bakal', 'manalagi', 'jadilah', 'soal', 'dimaksudnya', 'sayalah', 'ketika', 'anda', 'empat', 'mirip', 'kamilah', 'sama-sama', 'akhirnya', 'waktunya', 'beri', 'akhiri', 'ditambahkan', 'menyebutkan', 'adanya', 'sebesar', 'berkenaan', 'berlainan', 'digunakan', 'sebelum', 'menghendaki', 'mungkin', 'berapa', 'bagaimana', 'dikarenakan', 'agaknya', 'antaranya', 'setibanya', 'sebaik', 'enggaknya', 'bahkan', 'bahwa', 'hendaklah', 'kebetulan', 'perlukah', 'sesekali', 'kamu', 'pun', 'selama-lamanya', 'jelas', 'satu', 'melainkan', 'sedikit', 'seolah', 'beginilah', 'namun', 'tentunya', 'maupun', 'disampaikan', 'diingatkan', 'ataukah', 'tidaklah', 'kinilah', 'lima', 'jelasnya', 'selanjutnya', 'persoalan', 'bisa', 'kita', 'mengingat', 'toh', 'hanyalah', 'nah', 'ada', 'justru', 'dialah', 'mulai', 'pihak', 'tentulah', 'terlebih', 'apatah', 'wong', 'meyakinkan', 'selalu', 'jumlahnya', 'sempat', 'jadi', 'seluruh', 'mempersiapkan', 'ditunjukkannya', 'memintakan', 'sebagainya', 'bukanlah', 'jumlah', 'misalnya', 'bermacam-macam', 'mendapatkan', 'berdatangan', 'mengakhiri', 'tuturnya', 'makin', 'menyampaikan', 'bolehkah', 'ditunjuki', 'rasa', 'sejumlah', 'selain', 'bagian', 'sebenarnya', 'sepantasnyalah', 'sejenak', 'tanyanya', 'tersebut', 'kemudian', 'apalagi', 'saya', 'tiba', 'padanya', 'tutur', 'mengira', 'diperlukannya', 'panjang', 'terakhir', 'dia', 'sini', 'apakah', 'terhadapnya', 'ternyata', 'memperkirakan', 'bapak', 'teringat-ingat', 'selamanya', 'hingga', 'tersebutlah', 'berlebihan', 'seseorang', 'mengucapkannya', 'siapapun', 'mengatakan', 'tempat', 'terjadilah', 'bolehlah', 'entah', 'kan', 'kepadanya', 'meminta', 'ditegaskan', 'atas', 'punya', 'siapa', 'inilah', 'bawah', 'sewaktu', 'kelihatannya', 'mereka', 'cukup', 'tentang', 'sebegini', 'di', 'semata-mata', 'masih', 'ingat-ingat', 'agak', 'terasa', 'awalnya', 'boleh', 'menyeluruh', 'terus', 'terdapat', 'mengibaratkannya', 'tertentu', 'diberi', 'beginian', 'ditunjuknya', 'kira', 'kami', 'dini', 'hanya', 'jangan', 'bilakah', 'berlalu', 'kepada', 'apabila', 'hendak', 'kecil', 'dekat', 'katanya', 'semula', 'bekerja', 'berarti', 'diakhiri', 'ini', 'sangatlah', 'terdahulu', 'percuma', 'terdiri', 'semasa', 'disinilah', 'inikah', 'kedua', 'sejak', 'mau', 'sesuatunya', 'harus', 'mengingatkan', 'seterusnya', 'pasti', 'sementara', 'tertuju', 'telah', 'walau', 'mana', 'merasa', 'sesuatu', 'diketahui', 'seperlunya', 'kelamaan', 'seusai', 'didapat', 'sekarang', 'pertama', 'mendapat', 'diketahuinya', 'menyiapkan', 'keduanya', 'tandasnya', 'diperbuat', 'lama', 'begitu', 'menjelaskan', 'jauh', 'benarlah', 'kapanpun', 'kira-kira', 'pertanyaan', 'bahwasanya', 'keterlaluan', 'jangankan', 'tiba-tiba', 'berapakah', 'yakni', 'jika', 'kalau', 'didatangkan', 'menunjukkan', 'sambil', 'semakin', 'terlalu', 'ucapnya', 'siap', 'dipertanyakan', 'tidakkah', 'berapalah', 'tampaknya', 'sangat', 'bermacam', 'rupanya', 'biasanya', 'diberikannya', 'mulanya', 'menyangkut', 'dikatakan', 'se', 'artinya', 'sering', 'gunakan', 'sebabnya', 'jelaskan', 'maka', 'semacam', 'ungkapnya', 'ke', 'demikian', 'manakala', 'berikut', 'dan', 'terjadinya', 'perlunya', 'sudah', 'guna', 'waduh', 'balik', 'diminta', 'dijelaskan', 'naik', 'sendirinya', 'berujar', 'dimisalkan', 'melalui', 'bukankah', 'sebetulnya', 'bersiap-siap', 'para', 'ditanyai', 'berbagai', 'ujar', 'harusnya', 'ujarnya', 'berturut-turut', 'datang', 'sinilah', 'tampak', 'baik', 'belumlah', 'mampukah', 'dahulu', 'melakukan', 'setidaknya', 'sedangkan', 'amatlah', 'dijelaskannya', 'malahan', 'janganlah', 'lanjut', 'bersama', 'mengibaratkan', 'bertanya', 'mendatangi', 'enggak', 'tapi', 'mempertanyakan', 'sekaligus', 'antar', 'bakalan', 'hampir', 'tanya', 'daripada', 'cuma', 'jadinya', 'sekurang-kurangnya', 'semampunya', 'kalaupun', 'setempat', 'buat', 'luar', 'sekali-kali', 'cukuplah', 'misal', 'ialah', 'memulai', 'berlangsung', 'sampaikan', 'dengan', 'semua', 'mampu', 'malah', 'kok', 'lagi', 'dimintai', 'lanjutnya', 'sekadarnya', 'saatnya', 'mengucapkan', 'sekiranya', 'sebegitu', 'menunjuk', 'kembali', 'kapankah', 'menanya', 'rasanya', 'dipersoalkan', 'pertanyakan', 'diperlukan', 'tambahnya', 'itu', 'inginkan', 'sehingga', 'secukupnya', 'dari', 'sana', 'meskipun', 'demikianlah', 'apaan', 'padahal', 'juga', 'diperbuatnya', 'memisalkan', 'sampai', 'sesampai', 'seenaknya', 'itukah', 'ditanya', 'tiga', 'berakhirnya', 'awal', 'pada', 'pernah', 'sejauh', 'memang', 'kenapa', 'umum', 'terutama', 'disini', 'antara', 'ungkap', 'dilakukan', 'mengerjakan', 'saat', 'segala', 'seharusnya', 'wah', 'sepantasnya', 'berturut', 'menanyai', 'haruslah', 'mengetahui', 'menegaskan', 'olehnya', 'sampai-sampai', 'disebutkannya', 'diantara', 'diinginkan', 'mengatakannya', 'menjawab', 'seolah-olah', 'tahu', 'ucap', 'seketika', 'sendiri', 'sekalipun', 'mempersoalkan', 'diucapkannya', 'dipunyai', 'bagaikan', 'lamanya', 'saja', 'sebisanya', 'sudahlah', 'dituturkannya', 'menurut', 'waktu', 'yang', 'diantaranya', 'kemungkinan', 'tetapi', 'mulailah', 'tunjuk', 'aku', 'yaitu', 'serupa', 'semisal', 'demi', 'serta', 'lah', 'diri', 'dimungkinkan', 'beginikah', 'menyatakan', 'berkali-kali', 'tambah', 'berikutnya', 'caranya', 'ingin', 'mendatangkan', 'diibaratkannya', 'kitalah', 'biasa', 'nantinya', 'semaunya', 'diakhirinya', 'sedemikian', 'tetap', 'melihat', 'andalah', 'berada', 'kemungkinannya', 'berakhir', 'hendaknya', 'supaya', 'menginginkan', 'betulkah', 'dimaksudkannya', 'dijawab', 'begitupun', 'entahlah', 'sepihak', 'kalaulah', 'usai', 'keseluruhannya', 'suatu', 'dibuatnya', 'berjumlah', 'adapun', 'sebutlah', 'benar', 'sekurangnya', 'sesudahnya', 'sama', 'membuat', 'semata', 'ikut', 'banyak', 'lewat', 'sesama', 'berikan', 'kelihatan', 'semuanya', 'bulan', 'usah', 'sela', 'tinggi', 'dimulailah', 'seingat', 'besar', 'tengah', 'tadinya', 'berkeinginan', 'dipergunakan', 'diperkirakan', 'ibaratnya', 'makanya', 'wahai', 'mungkinkah', 'disebutkan', 'sebagai', 'bukannya', 'dilalui', 'sepanjang', 'soalnya', 'dikira', 'tahun', 'sebagian', 'dikatakannya', 'tersampaikan', 'keseluruhan', 'bagaimanapun', 'disebut', 'bukan', 'lalu', 'segera', 'masihkah', 'ditanyakan', 'secara', 'begitukah', 'berkata', 'diungkapkan', 'kasus', 'meski', 'dikerjakan', 'pantas', 'lebih', 'lain', 'setengah', 'sendirian', 'dua', 'masalahnya', 'semisalnya', 'tegasnya', 'beberapa', 'seluruhnya', 'setiba', 'bagi', 'lainnya', 'kiranya', 'itulah', 'memberi'}\n",
      "\n",
      "List of stopwords in Italian:\n",
      "{'ebbi', 'sto', 'del', 'avuto', 'facesti', 'di', 'sarò', 'delle', 'una', 'anche', 'avevamo', 'sarai', 'ai', 'dello', 'tuo', 'per', 'dai', 'nelle', 'avevano', 'avuti', 'ha', 'con', 'abbiamo', 'starebbe', 'ne', 'vostri', 'e', 'facemmo', 'siano', 'fossi', 'ad', 'la', 'nostri', 'facciate', 'stessi', 'fossimo', 'stiamo', 'erano', 'avemmo', 'dell', 'quelle', 'avrò', 'farebbero', 'eravamo', 'nostra', 'un', 'steste', 'saresti', 'queste', 'tu', 'fosti', 'stavate', 'suoi', 'stavamo', 'facevano', 'saremo', 'sui', 'nostro', 'vostro', 'farei', 'a', 'faceste', 'sugl', 'sarebbe', 'dove', 'fanno', 'stavano', 'avevi', 'avrai', 'al', 'stava', 'o', 'avremo', 'facevo', 'avevo', 'sarete', 'allo', 'mie', 'facessi', 'sarà', 'faremo', 'agli', 'perché', 'vostra', 'nella', 'faranno', 'staremmo', 'negli', 'cui', 'avute', 'avremmo', 'lei', 'dei', 'avranno', 'fummo', 'dall', 'avrebbe', 'sulla', 'fosse', 'ma', 'dagl', 'ebbero', 'avessimo', 'c', 'stesti', 'sulle', 'suo', 'essendo', 'avevate', 'faccia', 'gli', 'i', 'feci', 'stetti', 'facevamo', 'tra', 'l', 'ti', 'da', 'starebbero', 'stavi', 'sia', 'alla', 'avreste', 'sua', 'avrà', 'loro', 'sugli', 'farò', 'si', 'fece', 'sull', 'avessi', 'starei', 'coi', 'fecero', 'più', 'fareste', 'faremmo', 'dal', 'era', 'starai', 'avendo', 'stessero', 'avete', 'sul', 'quanto', 'nostre', 'eri', 'avesti', 'starà', 'quella', 'stareste', 'le', 'se', 'facessimo', 'facendo', 'stiano', 'tua', 'quello', 'starete', 'nel', 'agl', 'questo', 'dalle', 'furono', 'quanta', 'mi', 'ed', 'della', 'avrebbero', 'quelli', 'il', 'avrete', 'stando', 'stemmo', 'faccio', 'sono', 'stettero', 'sareste', 'saranno', 'stessimo', 'stanno', 'stiate', 'facesse', 'sta', 'facessero', 'stavo', 'hai', 'fu', 'tue', 'siamo', 'stesse', 'avesse', 'questa', 'stai', 'nello', 'aveste', 'sullo', 'avrei', 'voi', 'staranno', 'sue', 'non', 'noi', 'farebbe', 'facevi', 'contro', 'mia', 'quale', 'eravate', 'col', 'farà', 'miei', 'farete', 'nell', 'alle', 'come', 'lui', 'all', 'saremmo', 'facciano', 'sarebbero', 'facciamo', 'staresti', 'ci', 'abbiate', 'chi', 'io', 'faceva', 'avresti', 'farai', 'sarei', 'stia', 'quanti', 'siete', 'foste', 'tutti', 'dallo', 'degli', 'mio', 'lo', 'che', 'quante', 'ero', 'degl', 'abbia', 'starò', 'stette', 'questi', 'li', 'faresti', 'in', 'hanno', 'tuoi', 'avessero', 'vostre', 'sei', 'staremo', 'vi', 'su', 'dov', 'dalla', 'uno', 'ho', 'dagli', 'fossero', 'fai', 'tutto', 'avuta', 'nei', 'ebbe', 'siate', 'fui', 'facevate', 'è', 'aveva', 'abbiano', 'negl'}\n",
      "\n",
      "List of stopwords in Kazakh:\n",
      "{'сіздің', 'па', 'пфша', 'ана', 'кәне', 'күңк', 'саңқ', 'солай', 'уау', 'сарт-сұрт', 'бар', 'бетер', 'гөрі', 'арсалаң-арсалаң', 'тарта', 'маңқ', 'кейбіреу', 'кә', 'қаралы', 'морт', 'қап', 'оһо', 'салаң-сұлаң', 'дейін', 'біздердің', 'ешқандай', 'кейбір', 'таман', 'кәні', 'менде', 'онда', 'түге', 'япырмай', 'өзіме', 'ой', 'өй', 'осы', 'эх', 'олардың', 'арбаң-арбаң', 'мыңқ', 'бізден', 'желп', 'кірт', 'сарт', 'ол', 'арс-ұрс', 'ах', 'бүкіл', 'паһ-паһ', 'міне', 'біреу', 'туралы', 'сыңқ', 'шаңқ-шаңқ', 'сіздерге', 'шақты', 'барша', 'сізден', 'әрне', 'аһа', 'бірнеше', 'құрау-құрау', 'күрт', 'ірк', 'сонымен', 'сенен', 'дәнеңе', 'ей', 'уа', 'уай', 'сияқты', 'қаңқ-құңқ', 'ай', 'өзім', 'өзіне', 'тәк', 'дүңк', 'жалп', 'қайқаң-құйқаң', 'ғана', 'ырқ', 'қана', 'бізбен', 'сондықтан', 'әрбір', 'қош-қош', 'пішә', 'оларға', 'онымен', 'сіздердің', 'бұрын', 'алдақашан', 'борт', 'сондай', 'сіздерден', 'арс', 'ербелең-ербелең', 'шаңқ-шұңқ', 'тарс-тұрс', 'сенімен', 'сіздермен', 'оның', 'еш', 'шәйт', 'сона', 'жаракімалла', 'осылай', 'сонау', 'тыңқ', 'дегенмен', 'әрқайсы', 'қаңғыр-күңгір', 'әттегенай', 'жуық', 'таңқ', 'сенің', 'сізбен', 'әлдекім', 'мышы', 'пырс', 'ох', 'сізге', 'біздермен', 'пай', 'әлдеқалай', 'оған', 'сорап', 'бірақ', 'сол', 'пішту', 'әрқалай', 'әй', 'кейін', 'шаңқ', 'кәнеки', 'мен', 'алатау', 'олар', 'ғұрлы', 'қалт-құлт', 'жалт-жалт', 'әттеген-ай', 'ғұрлым', 'ие', 'астапыралла', 'түгел', 'гүрс', 'тырс', 'бүгжең-бүгжең', 'шамалы', 'қатар', 'өзінің', 'шек', 'ыңқ', 'олардан', 'өзің', 'ырс', 'себебі', 'анау', 'олармен', 'сен', 'әлденеше', 'тарс', 'соң', 'тарбаң-тарбаң', 'қарай', 'ешқайсы', 'қызараң-қызараң', 'кәһ', 'арнайы', 'өз', 'бізге', 'әттең', 'күллі', 'біздің', 'әйда', 'шіңк', 'менен', 'әркім', 'әлдеқайдан', 'бірдеме', 'әншейін', 'сіздер', 'о', 'құр', 'шырт', 'мынау', 'бірге', 'біздерге', 'емес', 'ештеме', 'өзімнің', 'үшін', 'барқ', 'эй', 'бұл', 'болп', 'ыржың-тыржың', 'сенен\\tонан', 'қорс', 'батыр-бұтыр', 'бәрекелді', 'ал', 'арқылы', 'мәссаған', 'бәрі', 'маған', 'жоқ', 'беу', 'осындай', 'біздер', 'ешбір', 'е', 'пай-пай', 'бері', 'сенде', 'масқарай', 'күшім', 'ойпырмай', 'былп', 'тек', 'алақай', 'қоса', 'барлық', 'я', 'құрау', 'қалт-қалт', 'бүйт', 'ешқашан', 'әйтпесе', 'мына', 'өйткені', 'тағыда', 'өзге', 'ешкім', 'мұндай', 'біз', 'ура', 'шейін', 'саған', 'таяу', 'айтпақшы', 'менің', 'жалт-жұлт', 'моһ', 'шіркін', 'менімен', 'әні', 'сайын', 'әлдеқашан', 'бойы', 'салым', 'үйт', 'дүрс', 'далаң-далаң', 'митың-митың', 'біздерден', 'қаңқ-қаңқ', 'бойымен', 'әйткенмен', 'ә', 'қыңқ', 'әлдене', 'тағы', 'қолп', 'қайсыбір', 'әрине', 'одан', 'сіз', 'ау', 'әукім', 'бұндай', 'осынау', 'алайда', 'өзі'}\n",
      "\n",
      "List of stopwords in Nepali:\n",
      "{'आयो', 'कुनै', 'प्रति', 'चाहिए', 'भन्छन्', 'यस्तो', 'आत्म', 'किनभने', 'के', 'नयाँ', 'जुन', 'एकदम', 'सोही', 'या', 'त्सपछि', 'भन्ने', 'गरेर', 'जस्तो', 'तथा', 'बाहिर', 'पक्का', 'ती', 'अर्को', 'तपाईको', 'सही', 'थियो', 'कतै', 'यहाँ', 'स्पष्ट', 'अनुसार', 'कसरी', 'उप', 'तिर', 'पक्कै', 'वास्तवमा', 'न', 'साथ', 'दुई', 'संगै', 'लाई', 'जस्तोसुकै', 'तिनिहरुलाई', 'जबकि', 'पछिल्लो', 'मात्र', 'यसबाहेक', 'कृपया', 'यी', 'आए', 'पाँचौं', 'तुरुन्तै', 'आफ्नै', 'यति', 'यथोचित', 'संग', 'जान', 'रहेका', 'सम्भव', 'छौं', 'भए', 'मुख्य', 'अरुलाई', 'अन्यथा', 'त्सैले', 'छ', 'जसले', 'पहिलो', 'हरेक', 'हुने', 'यसो', 'बारे', 'मा', 'थिएन', 'पछि', 'सबैलाई', 'अन्यत्र', 'आफू', 'भित्र', 'ले', 'औं', 'नि', 'नौ', 'देखेको', 'गर्छ', 'पहिले', 'जहाँ', 'भन्', 'ठीक', 'चाहन्छु', 'जस्तै', 'कसै', 'शायद', 'उहालाई', 'सात', 'उदाहरण', 'नत्र', 'कसैले', 'यो', 'तल', 'यसपछि', 'सबै', 'कहिलेकाहीं', 'रहेको', 'यसरी', 'चाले', 'सो', 'गर्नुपर्छ', 'तपाई', 'गरौं', 'देखे', 'हुन्छ', 'हुन', 'अलग', 'सायद', 'गर्ने', 'तिमी', 'देखेर', 'यहाँसम्म', 'राम्रो', 'तिनीहरुको', 'बरु', 'तेस्रो', 'अर्थात', 'किन', 'हुन्', 'अब', 'यद्यपि', 'बिरुद्ध', 'नजिकै', 'जसलाई', 'जे', 'देखिन्छ', 'भन्दा', 'देखि', 'सक्छ', 'पहिल्यै', 'गर्न', 'बाहेक', 'अगाडी', 'निर्दिष्ट', 'अझै', 'पर्छ', 'सम्म', 'जाहिर', 'दोस्रो', 'भएको', 'तीन', 'एक', 'गर्दै', 'छैन', 'राख्छ', 'तिनी', 'भन्छु', 'तेस्कारण', 'त', 'नै', 'केही', 'भन', 'दिए', 'एउटै', 'पटक', 'र', 'गरी', 'त्यो', 'आजको', 'जो', 'माथि', 'बिशेष', 'फेरी', 'मेरो', 'जसको', 'प्लस', 'उनले', 'रूप', 'छू', 'गरि', 'भने', 'निम्ति', 'कम से कम', 'पूर्व', 'बीचमा', 'क्रमशः', 'साथै', 'उनको', 'आफूलाई', 'हरे', 'मलाई', 'कहाँबाट', 'सट्टा', 'त्यहाँ', 'दिनुभएको', 'तत्काल', 'पाँच', 'लगभग', 'सधै', 'चार', 'यदि', 'राखे', 'तापनी', 'सारा', 'पनि', 'जब', 'गए', 'देखियो', 'छु', 'प्रतेक', 'अन्तर्गत', 'यसको', 'समय', 'छन्', 'आदि', 'साँच्चै', 'दिनुहुन्छ', 'पर्याप्त', 'गर्छु', 'गरेका', 'निम्नानुसार', 'अन्य', 'तर', 'गरेको', 'जसबाट', 'वरीपरी', 'का', 'तिनीहरू', 'धेरै', 'गर्नु', 'यस', 'अरु', 'आफ्नो', 'तदनुसार', 'थिए', 'निम्न', 'अर्थात्', 'भन्नुभयो', 'बीच', 'कि', 'भित्री', 'अक्सर', 'कुरा', 'जताततै', 'ओठ', 'कोही', 'पर्थ्यो', 'भर', 'गैर', 'चाहनुहुन्छ', 'रही', 'हो', 'जसमा', 'को', 'बने', 'म', 'गयौ', 'लागि'}\n",
      "\n",
      "List of stopwords in Norwegian:\n",
      "{'noko', 'ikke', 'noen', 'disse', 'di', 'hvilke', 'ikkje', 'dem', 'var', 'ha', 'ja', 'hvem', 'man', 'hennes', 'at', 'hennar', 'sine', 'me', 'er', 'en', 'deg', 'kunne', 'um', 'jeg', 'dere', 'vors', 'for', 'seg', 'hvilken', 'deires', 'om', 'mitt', 'har', 'hvor', 'selv', 'inn', 'du', 'hans', 'kvar', 'vort', 'hossen', 'over', 'siden', 'eg', 'dei', 'av', 'meg', 'mine', 'ned', 'noka', 'opp', 'deira', 'inni', 'et', 'nokre', 'kva', 'i', 'sjøl', 'det', 'så', 'kun', 'da', 'slik', 'sin', 'no', 'sia', 'vart', 'hadde', 'den', 'ble', 'ingi', 'mellom', 'sidan', 'korso', 'si', 'sitt', 'de', 'oss', 'mykje', 'noe', 'medan', 'der', 'ut', 'ditt', 'ein', 'fordi', 'deim', 'vere', 'kvifor', 'nokon', 'fra', 'hver', 'vår', 'etter', 'då', 'honom', 'før', 'begge', 'å', 'kven', 'sånn', 'korleis', 'hva', 'elles', 'mi', 'dykkar', 'hvis', 'dette', 'som', 'nå', 'mange', 'hvordan', 'og', 'eitt', 'bare', 'denne', 'når', 'so', 'til', 'hun', 'min', 'ett', 'uten', 'hoss', 'blir', 'hvorfor', 'både', 'hjå', 'kvarhelst', 'enn', 'dykk', 'henne', 'alle', 'hoe', 'han', 'upp', 'samme', 'være', 'kom', 'bli', 'båe', 'skulle', 'ville', 'blitt', 'deres', 'med', 'skal', 'eit', 'på', 'varte', 'meget', 'vil', 'nokor', 'vært', 'her', 'vi', 'kan', 'kvi', 'men', 'også', 'blei', 'ved', 'ho', 'inkje', 'eller', 'verte', 'mot', 'din', 'somt', 'vore', 'ingen', 'somme'}\n",
      "\n",
      "List of stopwords in Portuguese:\n",
      "{'fôssemos', 'tivesse', 'numa', 'num', 'como', 'eu', 'seu', 'lhes', 'sou', 'teriam', 'fomos', 'teve', 'com', 'estivermos', 'ele', 'aquela', 'e', 'tínhamos', 'qual', 'seja', 'hão', 'forem', 'terá', 'pelo', 'tu', 'tenha', 'houvessem', 'me', 'houveriam', 'ou', 'você', 'a', 'seriam', 'mais', 'um', 'tivéssemos', 'houvera', 'temos', 'tinha', 'as', 'uma', 'dos', 'o', 'nossos', 'essas', 'for', 'tiverem', 'houvesse', 'meu', 'às', 'fôramos', 'só', 'quem', 'estamos', 'teria', 'estivessem', 'seríamos', 'mas', 'nós', 'tivéramos', 'isto', 'havemos', 'houveremos', 'fosse', 'das', 'fora', 'isso', 'foram', 'estiverem', 'pela', 'minha', 'mesmo', 'meus', 'tenho', 'tuas', 'estivesse', 'entre', 'houveria', 'muito', 'formos', 'há', 'tivermos', 'estiver', 'da', 'estivera', 'haja', 'hajamos', 'no', 'lhe', 'tive', 'teríamos', 'seremos', 'esse', 'houve', 'foi', 'sua', 'estão', 'estivéramos', 'teu', 'eram', 'tiver', 'à', 'nos', 'estejam', 'é', 'houver', 'de', 'houvéssemos', 'sejam', 'houveram', 'seus', 'essa', 'sejamos', 'serei', 'houvemos', 'ao', 'era', 'deles', 'já', 'ela', 'tenhamos', 'houvéramos', 'pelos', 'tinham', 'tivera', 'estivemos', 'se', 'são', 'elas', 'tua', 'este', 'os', 'estive', 'delas', 'houveríamos', 'aquilo', 'nem', 'estes', 'nas', 'terão', 'éramos', 'teremos', 'na', 'serão', 'tem', 'aos', 'nossas', 'que', 'suas', 'houvermos', 'tiveram', 'sem', 'nosso', 'do', 'eles', 'estou', 'houverão', 'dela', 'esta', 'houverem', 'para', 'está', 'estiveram', 'esteja', 'te', 'teus', 'estavam', 'depois', 'tém', 'hajam', 'tenham', 'houverá', 'esses', 'estava', 'aqueles', 'tivemos', 'vos', 'até', 'nossa', 'quando', 'por', 'tivessem', 'fossem', 'esteve', 'dele', 'hei', 'estivéssemos', 'seria', 'pelas', 'aquele', 'estejamos', 'também', 'será', 'vocês', 'estávamos', 'terei', 'minhas', 'houverei', 'não', 'fui', 'em', 'somos', 'aquelas', 'estas'}\n",
      "\n",
      "List of stopwords in Romanian:\n",
      "{'mâine', 'ia', 'ala', 'apoi', 'cat', 'cumva', 'unde', 'imi', 'noastră', 'despre', 'vostru', 'nostri', 'ei', 'iar', 'să', 'acesta', 'am', 'ceva', 'un', 'tuturor', 'niste', 'nou', 'pina', 'spre', 'câte', 'noştri', 'a', 'mereu', 'dacă', 'nu', 'până', 'catre', 'mie', 'tăi', 'zi', 'acei', 'meu', 'cea', 'alea', 'asa', 'fel', 'oricare', 'acel', 'uneia', 'ălea', 'cei', 'nimic', 'alta', 'fost', 'pot', 'de', 'unora', 'or', 'lângă', 'alti', 'citeva', 'vreo', 'multa', 'această', 'cineva', 'aceea', 'după', 'căror', 'mai', 'pai', 'fata', 'il', 'unele', 'unei', 'treilea', 'vă', 'doilea', 'voi', 'pînă', 'pe', 'dau', 'ţi', 'ci', 'fiecare', 'primul', 'sintem', 'acestei', 'sa-mi', 'mele', 'in', 'atitia', 'vi', 'orice', 'spate', 'aş', 'aia', 'din', 'fim', 'atitea', 'ului', 'vouă', 'chiar', 'atit', 'undeva', 'cât', 'unui', 'dă', 'acelea', 'puţină', 'fii', 'incit', 'tu', 'îmi', 'dintr-', 'dată', 'm', 'multe', 'mei', 'fie', 'el', 'câtva', 'inainte', 'puţina', 'cărui', 'mă', 'îţi', 'acestia', 'ati', 'pentru', 'aţi', 'tocmai', 'cum', 'totusi', 'i', 'cîtva', 'puţin', 'ti', 'sint', 'inapoi', 'ar', 'ţie', 'astea', 'că', 'deja', 'doar', 'fiu', 'era', 'avea', 'vor', 'unii', 'are', 'câţi', 'le', 'este', 'citiva', 'aceia', 'mi', 'cîte', 'prin', 'toţi', 'ale', 'sai', 'vom', 'altcineva', 'oricît', 'noi', 'atita', 'mod', 'aveţi', 'lui', 'deasupra', 'adica', 'către', 'acestea', 'dar', 'acestui', 'celor', 'lor', 'vreun', 'atat', 'li', 'tot', 'fi', 'cam', 'dat', 'totul', 'tău', 'isi', 'ai', 'ceilalti', 'unuia', 'acea', 'aici', 'unu', 'oricât', 'toate', 'e', 'la', 'avem', 'cărei', 'acele', 'cînd', 'ul', 'uneori', 'as', 'deşi', 'prea', 'o', 'drept', 'altfel', 't', 'altii', 'va', 'careia', 'sunt', 'cui', 'mine', 'ma', 'multă', 'cu', 'suntem', 'cît', 'oricînd', 'ăştia', 'oriunde', 'mîine', 'dintr', 'ăsta', 'eram', 'si', 'fiţi', 'ca', 'acelasi', 'ăla', 'ea', 'care', 'voştri', 'insa', 'se', 'face', 'astfel', 'totuşi', 'alt', 'sus', 'inca', 'atata', 'multi', 'dupa', 'sa', 'patru', 'deci', 'caruia', 'numai', 'ta', 'oricând', 'nici', 'te', 'doi', 'sau', 'cit', 'ceea', 'atatia', 'foarte', 'pic', 'fără', 'intr', 'nimeni', 'daca', 'ba', 'voastră', 'cele', 'unul', 'prima', 'putini', 'voastre', 'unor', 'cine', 'cel', 'eu', 'una', 'două', 'ele', 'cand', 'sa-ti', 'ne', 'tine', 'ce', 'asupra', 'decit', 'săi', 'noua', 'nouă', 'atunci', 'intre', 'parca', 'trei', 'al', 'aibă', 'fara', 'desi', 'îi', 'aceste', 'sale', 'căci', 'alte', 'poate', 'ăstea', 'aceasta', 'carora', 'asta', 'aceeasi', 'da', 'peste', 'noastre', 'nişte', 'treia', 'citi', 'ori', 'printr-', 'avut', 'anume', 'sunteţi', 'toti', 'acest', 'eşti', 'altceva', 'aceştia', 'lîngă', 'au', 'cind', 'şi', 'toata', 'nostru', 'abia', 'dintre', 'u', 'mea', 'îl', 'atatea', 'toată', 'v', 'zice', 'cîţi', 'tale', 'acela', 'oricum', 'iti', 'în', 'său', 'mult', 'altul', 'mulţi', 'cite', 'oricine', 'sub', 'ni', 'patra', 'aceşti', 'atare', 'cita', 'ii'}\n",
      "\n",
      "List of stopwords in Russian:\n",
      "{'теперь', 'всегда', 'его', 'у', 'ведь', 'может', 'они', 'конечно', 'да', 'нет', 'разве', 'этой', 'вас', 'хоть', 'до', 'мне', 'есть', 'перед', 'были', 'ну', 'куда', 'хорошо', 'так', 'ней', 'для', 'можно', 'совсем', 'чуть', 'или', 'как', 'ним', 'где', 'моя', 'из', 'эту', 'про', 'зачем', 'какая', 'ей', 'после', 'если', 'эти', 'ты', 'через', 'ее', 'всех', 'этот', 'нельзя', 'здесь', 'потому', 'какой', 'всего', 'потом', 'без', 'тем', 'опять', 'того', 'меня', 'с', 'ли', 'лучше', 'том', 'в', 'другой', 'нее', 'что', 'об', 'чего', 'бы', 'больше', 'их', 'ж', 'раз', 'один', 'иногда', 'сейчас', 'когда', 'тот', 'и', 'то', 'было', 'все', 'три', 'два', 'впрочем', 'себе', 'же', 'по', 'него', 'надо', 'ни', 'а', 'о', 'ему', 'нибудь', 'уже', 'этом', 'всю', 'он', 'тут', 'мы', 'за', 'никогда', 'уж', 'под', 'между', 'вы', 'много', 'свою', 'к', 'не', 'ничего', 'чем', 'тогда', 'она', 'от', 'нас', 'я', 'этого', 'вот', 'со', 'был', 'чтобы', 'будто', 'там', 'мой', 'над', 'но', 'быть', 'была', 'почти', 'еще', 'даже', 'вдруг', 'при', 'вам', 'себя', 'чтоб', 'кто', 'них', 'тоже', 'во', 'на', 'будет', 'более', 'тебя', 'им', 'наконец', 'только', 'такой', 'сам'}\n",
      "\n",
      "List of stopwords in Spanish:\n",
      "{'tendrías', 'durante', 'donde', 'esté', 'hayas', 'esos', 'hubieran', 'hay', 'fueseis', 'con', 'estéis', 'habiendo', 'un', 'siente', 'me', 'estaría', 'a', 'contra', 'fueron', 'estuvierais', 'es', 'hayan', 'estará', 'estamos', 'seríamos', 'estada', 'quienes', 'vuestro', 'fuese', 'tengas', 'unos', 'muchos', 'son', 'estar', 'teníais', 'había', 'tuvieses', 'seremos', 'ese', 'de', 'pero', 'estaríais', 'estuviesen', 'hubiesen', 'antes', 'estos', 'tenemos', 'yo', 'muy', 'sentido', 'tuya', 'habrá', 'éramos', 'tú', 'estarán', 'habéis', 'vuestra', 'está', 'sentidas', 'tenidos', 'estarías', 'esa', 'porque', 'hubieseis', 'eran', 'otra', 'tendré', 'sentid', 'teníamos', 'estuvo', 'tendría', 'estuvieron', 'eso', 'tuviesen', 'fui', 'del', 'como', 'vosotras', 'estabas', 'seríais', 'hubiésemos', 'estaremos', 'estuviéramos', 'estuvieras', 'hubierais', 'tu', 'habrían', 'fuésemos', 'tienen', 'en', 'has', 'el', 'habidos', 'tengamos', 'mía', 'sentida', 'tenidas', 'fuéramos', 'estuve', 'serán', 'serás', 'tenían', 'tendrá', 'fuera', 'tenida', 'más', 'hubiese', 'todos', 'mí', 'hayamos', 'entre', 'ti', 'algunas', 'sois', 'estarás', 'nos', 'otras', 'estado', 'tuyos', 'habido', 'tengáis', 'erais', 'era', 'nuestras', 'fueras', 'tuvieseis', 'sí', 'habríamos', 'le', 'este', 'mi', 'estuvieses', 'haya', 'tuve', 'ellos', 'sean', 'estaríamos', 'eres', 'habida', 'poco', 'hube', 'tanto', 'tuvieran', 'seré', 'las', 'hubo', 'hubieron', 'vuestras', 'les', 'hasta', 'habría', 'seas', 'tenido', 'seamos', 'estad', 'él', 'estás', 'estén', 'somos', 'estáis', 'míos', 'mis', 'ella', 'sintiendo', 'nosotros', 'estuvisteis', 'sobre', 'ha', 'estuvimos', 'e', 'tuyas', 'la', 'tienes', 'tuvieron', 'estuviste', 'desde', 'habidas', 'hubimos', 'tendrán', 'también', 'tus', 'o', 'tenías', 'estados', 'tuvimos', 'tuviese', 'nuestro', 'tenía', 'seáis', 'tuvo', 'otros', 'hubisteis', 'sin', 'estemos', 'estoy', 'tengan', 'fuerais', 'habremos', 'sentidos', 'estés', 'fue', 'estabais', 'habíamos', 'se', 'hemos', 'os', 'sus', 'nada', 'estaréis', 'estuvieseis', 'todo', 'que', 'algo', 'para', 'nuestra', 'te', 'quien', 'estando', 'han', 'serías', 'algunos', 'estaba', 'mías', 'por', 'teniendo', 'suyas', 'eras', 'ellas', 'cual', 'están', 'habréis', 'tendrás', 'su', 'tuviera', 'tuviéramos', 'soy', 'tendríamos', 'nosotras', 'estas', 'tendrían', 'una', 'habrán', 'tuvisteis', 'estarían', 'estuviera', 'habían', 'tuyo', 'vosotros', 'suyo', 'tendremos', 'los', 'sea', 'habrás', 'habías', 'sería', 'al', 'habré', 'tuvierais', 'tengo', 'fueses', 'estuviese', 'he', 'nuestros', 'estuviésemos', 'tendréis', 'hayáis', 'esto', 'estaban', 'tiene', 'estaré', 'hubiéramos', 'estábamos', 'no', 'tenéis', 'tuvieras', 'suyos', 'habríais', 'cuando', 'estadas', 'tendríais', 'ya', 'hubieras', 'fuimos', 'tuviésemos', 'mío', 'seréis', 'habrías', 'habíais', 'tuviste', 'fueran', 'esta', 'tened', 'serían', 'fuisteis', 'mucho', 'hubieses', 'ante', 'otro', 'hubiera', 'esas', 'hubiste', 'lo', 'tenga', 'fuiste', 'ni', 'vuestros', 'será', 'uno', 'estuvieran', 'fuesen', 'suya', 'y', 'qué'}\n",
      "\n",
      "List of stopwords in Swedish:\n",
      "{'där', 'än', 'vara', 'dig', 'hur', 'dem', 'var', 'icke', 'ha', 'man', 'sitta', 'mig', 'hennes', 'dess', 'dessa', 'mina', 'utan', 'er', 'en', 'själv', 'ju', 'nu', 'för', 'blev', 'vem', 'vilket', 'från', 'deras', 'om', 'mitt', 'har', 'du', 'hans', 'något', 'denna', 'av', 'här', 'hon', 'vilken', 'någon', 'detta', 'jag', 'när', 'i', 'det', 'så', 'åt', 'sin', 'och', 'alla', 'vart', 'den', 'vad', 'samma', 'blivit', 'vilkas', 'de', 'oss', 'sådan', 'ut', 'ditt', 'era', 'mellan', 'vid', 'sig', 'vår', 'då', 'honom', 'till', 'sådant', 'sina', 'dina', 'kunde', 'vilka', 'inom', 'som', 'efter', 'allt', 'är', 'min', 'ett', 'vars', 'blir', 'att', 'våra', 'mycket', 'henne', 'varit', 'han', 'hade', 'upp', 'varför', 'några', 'sådana', 'bli', 'skulle', 'varje', 'med', 'vårt', 'sedan', 'på', 'över', 'inte', 'vi', 'kan', 'ni', 'men', 'ert', 'eller', 'mot', 'under', 'din', 'ingen', 'ej'}\n",
      "\n",
      "List of stopwords in Turkish:\n",
      "{'nasıl', 'yani', 'ise', 'mı', 'için', 'aslında', 'şey', 'ile', 'biz', 'birşey', 'ki', 'nerede', 'bazı', 'birkaç', 'hep', 'sanki', 'nerde', 'defa', 'eğer', 'siz', 'neden', 'ya', 'ne', 'mu', 've', 'hiç', 'çok', 'kim', 'belki', 'veya', 'ama', 'niçin', 'az', 'bu', 'hepsi', 'çünkü', 'tüm', 'gibi', 'da', 'niye', 'biri', 'en', 'her', 'mü', 'daha', 'hem', 'diye', 'acaba', 'de', 'şu', 'nereye', 'o', 'kez'}\n"
     ]
    }
   ],
   "source": [
    "import nltk\n",
    "from nltk.corpus import stopwords\n",
    "result = set(stopwords.words('english'))\n",
    "print(\"List of stopwords in English:\")\n",
    "print(result)\n",
    "print(\"\\nList of stopwords in Arabic:\")\n",
    "result = set(stopwords.words('arabic'))\n",
    "print(result)\n",
    "print(\"\\nList of stopwords in Azerbaijani:\")\n",
    "result = set(stopwords.words('azerbaijani'))\n",
    "print(result)\n",
    "print(\"\\nList of stopwords in Danish:\")\n",
    "result = set(stopwords.words('danish'))\n",
    "print(result)\n",
    "print(\"\\nList of stopwords in Dutch:\")\n",
    "result = set(stopwords.words('dutch'))\n",
    "print(result)\n",
    "print(\"\\nList of stopwords in Finnish:\")\n",
    "result = set(stopwords.words('finnish'))\n",
    "print(result)\n",
    "print(\"\\nList of stopwords in French:\")\n",
    "result = set(stopwords.words('french'))\n",
    "print(result)\n",
    "print(\"\\nList of stopwords in German:\")\n",
    "result = set(stopwords.words('german'))\n",
    "print(result)\n",
    "print(\"\\nList of stopwords in Greek:\")\n",
    "result = set(stopwords.words('greek'))\n",
    "print(result)\n",
    "print(\"\\nList of stopwords in Hungarian:\")\n",
    "result = set(stopwords.words('hungarian'))\n",
    "print(result)\n",
    "print(\"\\nList of stopwords in Indonesian:\")\n",
    "result = set(stopwords.words('indonesian'))\n",
    "print(result)\n",
    "print(\"\\nList of stopwords in Italian:\")\n",
    "result = set(stopwords.words('italian'))\n",
    "print(result)\n",
    "print(\"\\nList of stopwords in Kazakh:\")\n",
    "result = set(stopwords.words('kazakh'))\n",
    "print(result)\n",
    "print(\"\\nList of stopwords in Nepali:\")\n",
    "result = set(stopwords.words('nepali'))\n",
    "print(result)\n",
    "print(\"\\nList of stopwords in Norwegian:\")\n",
    "result = set(stopwords.words('norwegian'))\n",
    "print(result)\n",
    "print(\"\\nList of stopwords in Portuguese:\")\n",
    "result = set(stopwords.words('portuguese'))\n",
    "print(result)\n",
    "print(\"\\nList of stopwords in Romanian:\")\n",
    "result = set(stopwords.words('romanian'))\n",
    "print(result)\n",
    "print(\"\\nList of stopwords in Russian:\")\n",
    "result = set(stopwords.words('russian'))\n",
    "print(result)\n",
    "print(\"\\nList of stopwords in Spanish:\")\n",
    "result = set(stopwords.words('spanish'))\n",
    "print(result)\n",
    "print(\"\\nList of stopwords in Swedish:\")\n",
    "result = set(stopwords.words('swedish'))\n",
    "print(result)\n",
    "print(\"\\nList of stopwords in Turkish:\")\n",
    "result = set(stopwords.words('turkish'))\n",
    "print(result)"
   ]
  },
  {
   "cell_type": "markdown",
   "metadata": {},
   "source": [
    "#### Write a Python NLTK program to remove stop words from a given text"
   ]
  },
  {
   "cell_type": "code",
   "execution_count": 1,
   "metadata": {},
   "outputs": [
    {
     "name": "stdout",
     "output_type": "stream",
     "text": [
      "\n",
      "Original string:\n",
      "\n",
      "In computing, stop words are words which are filtered out before or after \n",
      "processing of natural language data (text). Though \"stop words\" usually \n",
      "refers to the most common words in a language, there is no single universal \n",
      "list of stop words used by all natural language processing tools, and \n",
      "indeed not all tools even use such a list. Some tools specifically avoid \n",
      "removing these stop words to support phrase search.\n",
      "\n",
      "\n",
      "After removing stop words from the said text:\n",
      "['In', 'computing,', 'stop', 'words', 'words', 'filtered', 'processing', 'natural', 'language', 'data', '(text).', 'Though', '\"stop', 'words\"', 'usually', 'refers', 'common', 'words', 'language,', 'single', 'universal', 'list', 'stop', 'words', 'used', 'natural', 'language', 'processing', 'tools,', 'indeed', 'tools', 'even', 'use', 'list.', 'Some', 'tools', 'specifically', 'avoid', 'removing', 'stop', 'words', 'support', 'phrase', 'search.']\n"
     ]
    }
   ],
   "source": [
    "from nltk.corpus import stopwords\n",
    "stoplist = stopwords.words('english')\n",
    "text = '''\n",
    "In computing, stop words are words which are filtered out before or after \n",
    "processing of natural language data (text). Though \"stop words\" usually \n",
    "refers to the most common words in a language, there is no single universal \n",
    "list of stop words used by all natural language processing tools, and \n",
    "indeed not all tools even use such a list. Some tools specifically avoid \n",
    "removing these stop words to support phrase search.\n",
    "'''\n",
    "print(\"\\nOriginal string:\")\n",
    "print(text)\n",
    "clean_word_list = [word for word in text.split() if word not in stoplist]\n",
    "print(\"\\nAfter removing stop words from the said text:\")\n",
    "print(clean_word_list)"
   ]
  },
  {
   "cell_type": "markdown",
   "metadata": {},
   "source": [
    "#### Write a Python NLTK program to find the definition and examples of a given word using WordNet\n",
    "\n",
    "* From Wikipedia,\n",
    "WordNet is a lexical database for the English language. It groups English words into sets of synonyms called synsets, provides short definitions and usage examples, and records a number of relations among these synonym sets or their members. WordNet can thus be seen as a combination of dictionary and thesaurus. While it is accessible to human users via a web browser, its primary use is in automatic text analysis and artificial intelligence applications. The database and software tools have been released under a BSD style license and are freely available for download from the WordNet website. Both the lexicographic data (lexicographer files) and the compiler (called grind) for producing the distributed database are available."
   ]
  },
  {
   "cell_type": "code",
   "execution_count": 3,
   "metadata": {},
   "outputs": [
    {
     "name": "stderr",
     "output_type": "stream",
     "text": [
      "[nltk_data] Downloading package wordnet to /Users/sarath/nltk_data...\n",
      "[nltk_data]   Unzipping corpora/wordnet.zip.\n"
     ]
    },
    {
     "data": {
      "text/plain": [
       "True"
      ]
     },
     "execution_count": 3,
     "metadata": {},
     "output_type": "execute_result"
    }
   ],
   "source": [
    "import nltk\n",
    "nltk.download('wordnet')"
   ]
  },
  {
   "cell_type": "code",
   "execution_count": 4,
   "metadata": {},
   "outputs": [
    {
     "name": "stdout",
     "output_type": "stream",
     "text": [
      "Defination of the said word:\n",
      "a hostile meeting of opposing military forces in the course of a war\n",
      "\n",
      "Examples of the word in use::\n",
      "['Grant won a decisive victory in the battle of Chickamauga', 'he lost his romantic ideas about war when he got into a real engagement']\n"
     ]
    }
   ],
   "source": [
    "from nltk.corpus import wordnet \n",
    "syns = wordnet.synsets(\"fight\")\n",
    "print(\"Defination of the said word:\")\n",
    "print(syns[0].definition())\n",
    "print(\"\\nExamples of the word in use::\")\n",
    "print(syns[0].examples())"
   ]
  },
  {
   "cell_type": "code",
   "execution_count": null,
   "metadata": {},
   "outputs": [],
   "source": []
  }
 ],
 "metadata": {
  "kernelspec": {
   "display_name": "Python 3",
   "language": "python",
   "name": "python3"
  },
  "language_info": {
   "codemirror_mode": {
    "name": "ipython",
    "version": 3
   },
   "file_extension": ".py",
   "mimetype": "text/x-python",
   "name": "python",
   "nbconvert_exporter": "python",
   "pygments_lexer": "ipython3",
   "version": "3.7.1"
  }
 },
 "nbformat": 4,
 "nbformat_minor": 2
}
