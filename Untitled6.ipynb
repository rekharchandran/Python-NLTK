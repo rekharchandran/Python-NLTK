{
 "cells": [
  {
   "cell_type": "markdown",
   "metadata": {},
   "source": [
    "# NLTK corpus: Exercise-3"
   ]
  },
  {
   "cell_type": "markdown",
   "metadata": {},
   "source": [
    "#### Write a Python NLTK program to print the first 15 random combine labeled male and labeled female names from names corpus."
   ]
  },
  {
   "cell_type": "code",
   "execution_count": 1,
   "metadata": {},
   "outputs": [
    {
     "name": "stdout",
     "output_type": "stream",
     "text": [
      "First 15 random labeled combined names:\n",
      "[('Lindsay', 'female'), ('Smith', 'male'), ('Jessika', 'female'), ('Roxana', 'female'), ('Chas', 'male'), ('Tuesday', 'female'), ('Hartley', 'male'), ('Brenda', 'female'), ('Beryle', 'female'), ('Gerold', 'male'), ('Clark', 'male'), ('Leeanne', 'female'), ('Mellicent', 'female'), ('Toni', 'female'), ('Flower', 'female')]\n"
     ]
    }
   ],
   "source": [
    "from nltk.corpus import names \n",
    "import random \n",
    " \n",
    "male_names = names.words('male.txt')\n",
    "female_names = names.words('female.txt')\n",
    " \n",
    "labeled_male_names = [(str(name), 'male') for name in male_names]\n",
    "labeled_female_names = [(str(name), 'female') for name in female_names]\n",
    "\n",
    "# combine labeled male and labeled female names\n",
    "labeled_all_names = labeled_male_names + labeled_female_names\n",
    " \n",
    "# shuffle the labeled names array\n",
    "random.shuffle(labeled_all_names)\n",
    " \n",
    "print(\"First 15 random labeled combined names:\")\n",
    "print (labeled_all_names[:15])\n",
    "      \n",
    "      \n",
    "      "
   ]
  },
  {
   "cell_type": "markdown",
   "metadata": {},
   "source": []
  }
 ],
 "metadata": {
  "kernelspec": {
   "display_name": "Python 3",
   "language": "python",
   "name": "python3"
  },
  "language_info": {
   "codemirror_mode": {
    "name": "ipython",
    "version": 3
   },
   "file_extension": ".py",
   "mimetype": "text/x-python",
   "name": "python",
   "nbconvert_exporter": "python",
   "pygments_lexer": "ipython3",
   "version": "3.7.1"
  }
 },
 "nbformat": 4,
 "nbformat_minor": 2
}
